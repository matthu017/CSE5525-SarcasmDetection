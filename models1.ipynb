{
 "cells": [
  {
   "cell_type": "code",
   "execution_count": 1,
   "id": "2c518692",
   "metadata": {},
   "outputs": [
    {
     "name": "stderr",
     "output_type": "stream",
     "text": [
      "[nltk_data] Downloading package punkt to\n",
      "[nltk_data]     /users/PAS2168/matthu/nltk_data...\n",
      "[nltk_data]   Package punkt is already up-to-date!\n"
     ]
    },
    {
     "name": "stdout",
     "output_type": "stream",
     "text": [
      "PyTorch Version:  1.10.2+cu102\n",
      "cuda:0\n"
     ]
    }
   ],
   "source": [
    "import os\n",
    "import time\n",
    "import copy\n",
    "import nltk\n",
    "nltk.download('punkt')\n",
    "import json\n",
    "import numpy as np\n",
    "import pandas as pd\n",
    "import torch\n",
    "import torch.nn as nn\n",
    "import torch.optim as optim\n",
    "from torch.autograd import Variable\n",
    "from torch.utils.data import Dataset, DataLoader, random_split\n",
    "import matplotlib.pyplot as plt\n",
    "device = torch.device(\"cuda:0\" if torch.cuda.is_available() else \"cpu\")\n",
    "print(\"PyTorch Version: \",torch.__version__)\n",
    "print(device)"
   ]
  },
  {
   "cell_type": "code",
   "execution_count": 2,
   "id": "9a1079a1",
   "metadata": {},
   "outputs": [],
   "source": [
    "# Inputs\n",
    "cwd = os.getcwd()\n",
    "glove_file = cwd + \"/glove/glove.6B.50d.txt\"\n",
    "headlines_file = cwd + \"/headlines_sarcasm.json\"\n",
    "twitter_file = cwd + \"/twitter_sarcasm.csv\"\n",
    "reddit_file = cwd + \"/reddit_sarcasm.csv\"\n",
    "\n",
    "input_size = 128\n",
    "num_epochs = 25\n",
    "batch_size = 32\n",
    "learning_rate = .001"
   ]
  },
  {
   "cell_type": "code",
   "execution_count": 3,
   "id": "875544eb",
   "metadata": {},
   "outputs": [],
   "source": [
    "# Load glove embeddings into numpy arrays\n",
    "# https://stackoverflow.com/questions/49239941/what-is-unk-in-the-pretrained-glove-vector-files-e-g-glove-6b-50d-txt\n",
    "# https://datascience.stackexchange.com/questions/32345/initial-embeddings-for-unknown-padding\n",
    "words, embeddings = [], []\n",
    "idx = 1\n",
    "word2idx = {}\n",
    "\n",
    "# Pad Token\n",
    "pad_token = \"<PAD>\"\n",
    "words.append(pad_token)\n",
    "embeddings.append(np.zeros(50))\n",
    "word2idx[pad_token] = 0\n",
    "\n",
    "with open(glove_file) as file:\n",
    "    for line in file:\n",
    "        content = line.strip().split(' ')\n",
    "        words.append(content[0])\n",
    "        word2idx[content[0]] = idx\n",
    "        idx += 1\n",
    "        embeddings.append( [float(val) for val in content[1:]] )\n",
    "embeddings = np.array(embeddings)\n",
    "\n",
    "# Unknown Token\n",
    "unk_token = \"<UNK>\"\n",
    "unk_embedding = np.mean(embeddings, axis=0).reshape(-1, 1).T\n",
    "words.append(unk_token)\n",
    "embedding = np.append(embeddings, unk_embedding, axis=0)\n",
    "word2idx[unk_token] = idx\n",
    "\n",
    "glove = {w: embedding[word2idx[w]] for w in words}"
   ]
  },
  {
   "cell_type": "code",
   "execution_count": 4,
   "id": "554ba604",
   "metadata": {},
   "outputs": [],
   "source": [
    "# Class to hold sentence data\n",
    "class Sentences(Dataset):\n",
    "    def __init__(self, sentences, label, word2idx, input_size=128):\n",
    "        self.X = np.zeros((len(sentences), input_size))\n",
    "        for i, sentence in enumerate(sentences):\n",
    "            sentence = str(sentence)\n",
    "            words = nltk.word_tokenize(sentence)\n",
    "            words = words[0:input_size]\n",
    "            for j, word in enumerate(words):\n",
    "                self.X[i, j] = word2idx[word] if word in word2idx else word2idx[unk_token] #UNK Token\n",
    "        self.Y = np.array(label)\n",
    "        if len(self.X) != len(self.Y):\n",
    "            raise Exception(\"Length X does not match length of Y\")\n",
    "    \n",
    "    def __len__(self):\n",
    "        return len(self.X)\n",
    "    \n",
    "    def __getitem__(self, index):\n",
    "        x = Variable( torch.tensor(self.X[index]).long() )\n",
    "        y = Variable( torch.tensor(self.Y[index]).long() )\n",
    "        return x, y"
   ]
  },
  {
   "cell_type": "markdown",
   "id": "095651ff",
   "metadata": {},
   "source": [
    "##### Comment out cells based on what dataset is being tested"
   ]
  },
  {
   "cell_type": "code",
   "execution_count": 5,
   "id": "3c9dc0f5",
   "metadata": {},
   "outputs": [],
   "source": [
    "# Takes in a dataset and splits it into train and test sets (.2/.8)\n",
    "# Returns a dictionary mapping to train and test dataloaders\n",
    "def get_dataloaders(dataset):\n",
    "    dataset_size = len(dataset)\n",
    "    test_size = int(.2 * dataset_size)\n",
    "    train_size = dataset_size - test_size\n",
    "    test_dataset, train_dataset = random_split(dataset, [test_size, train_size])\n",
    "    test_loader = DataLoader(test_dataset, batch_size=batch_size, shuffle=True)\n",
    "    train_loader = DataLoader(train_dataset, batch_size=batch_size, shuffle=True)\n",
    "    dataloaders = {}\n",
    "    dataloaders['train'] = train_loader\n",
    "    dataloaders['test'] = test_loader\n",
    "    \n",
    "    return dataloaders"
   ]
  },
  {
   "cell_type": "code",
   "execution_count": 6,
   "id": "dfd9a658",
   "metadata": {},
   "outputs": [],
   "source": [
    "# Get Headline data into a dataframe\n",
    "domain = \"headlines\"\n",
    "df_headlines = pd.read_json(headlines_file)\n",
    "dataset = Sentences(df_headlines['headline'], df_headlines['is_sarcastic'], word2idx, input_size)\n",
    "\n",
    "\"\"\"\n",
    "# Get Twitter data into dataframe and load into dataset\n",
    "domain = \"twitter\"\n",
    "df_twitter = pd.read_csv(twitter_file)\n",
    "dataset = Sentences(df_twitter['tweet'], df_twitter['sarcastic'], word2idx, input_size)\n",
    "\"\"\"\n",
    "\n",
    "\"\"\"\n",
    "# Get Reddit data into dataframe and load into dataset\n",
    "domain = \"reddit\"\n",
    "df_reddit = pd.read_csv(reddit_file)\n",
    "dataset = Sentences(df_reddit['comment'], df_reddit['label'], word2idx, input_size)\n",
    "\"\"\"\n",
    "\n",
    "# Get dataloaders dict w/train and test dataloaders\n",
    "dataloaders = get_dataloaders(dataset)"
   ]
  },
  {
   "cell_type": "code",
   "execution_count": 7,
   "id": "7decc5d5",
   "metadata": {},
   "outputs": [],
   "source": [
    "def train_model(model, dataloaders, criterion, optimizer, num_epochs):\n",
    "    since = time.time()\n",
    "    \n",
    "    test_acc_history = []\n",
    "    train_acc_history = []\n",
    "    test_loss_history = []\n",
    "    train_loss_history = []\n",
    "    \n",
    "    best_model_wts = copy.deepcopy(model.state_dict())\n",
    "    best_acc = 0.0\n",
    "    \n",
    "    for epoch in range(num_epochs):\n",
    "        print('Epoch {}/{}'.format(epoch, num_epochs - 1))\n",
    "        print('-' * 10)\n",
    "        \n",
    "        for phase in ['train', 'test']:\n",
    "            if phase == 'train':\n",
    "                model.train()\n",
    "            else:\n",
    "                model.eval()\n",
    "            \n",
    "            running_loss = 0.0\n",
    "            running_corrects = 0\n",
    "            \n",
    "            #Iterate over data\n",
    "            for inputs, labels in dataloaders[phase]:\n",
    "                inputs = inputs.to(device)\n",
    "                labels = labels.to(device)\n",
    "                \n",
    "                #Zero the parameter gradients\n",
    "                optimizer.zero_grad()\n",
    "                \n",
    "                with torch.set_grad_enabled(phase == 'train'): # Calculate gradients during training\n",
    "                    outputs = model(inputs)\n",
    "                    loss = criterion(outputs, labels)\n",
    "                    _, preds = torch.max(outputs, 1)\n",
    "                    \n",
    "                    if phase == 'train': #Backprop and update weights\n",
    "                        loss.backward()\n",
    "                        optimizer.step()\n",
    "                \n",
    "                # Statistics\n",
    "                running_loss += loss.item() * inputs.size(0)\n",
    "                running_corrects += torch.sum(preds == labels.data)\n",
    "                \n",
    "            epoch_loss = running_loss / len(dataloaders[phase].dataset)\n",
    "            epoch_acc = running_corrects.double() / len(dataloaders[phase].dataset)\n",
    "            print('{} Loss: {:.4f} Acc: {:.4f}'.format(phase, epoch_loss, epoch_acc))\n",
    "            \n",
    "            # deep copy the model\n",
    "            if phase == 'test' and epoch_acc > best_acc:\n",
    "                best_acc = epoch_acc\n",
    "                best_model_wts = copy.deepcopy(model.state_dict())\n",
    "            if phase == 'test':\n",
    "                test_acc_history.append(epoch_acc)\n",
    "                test_loss_history.append(epoch_loss)\n",
    "            else:\n",
    "                train_acc_history.append(epoch_acc)\n",
    "                train_loss_history.append(epoch_loss)\n",
    "        print()\n",
    "    time_elapsed = time.time() - since\n",
    "    print('Training complete in {:.0f}m {:.0f}s'.format(time_elapsed // 60, time_elapsed % 60))\n",
    "    print('Best test Acc: {:4f}'.format(best_acc))\n",
    "\n",
    "    # load best model weights\n",
    "    model.load_state_dict(best_model_wts)\n",
    "    return model, train_acc_history, test_acc_history, train_loss_history, test_loss_history"
   ]
  },
  {
   "cell_type": "markdown",
   "id": "b95c657f",
   "metadata": {},
   "source": [
    "## CNN Classifier"
   ]
  },
  {
   "cell_type": "code",
   "execution_count": 8,
   "id": "36c177b2",
   "metadata": {},
   "outputs": [],
   "source": [
    "class CNNClassifier(nn.Module):\n",
    "    def __init__(self, input_size, embedding, num_classes):\n",
    "        super(CNNClassifier, self).__init__()\n",
    "        self.input_size = input_size\n",
    "        self.embedding = embedding\n",
    "        \n",
    "        # Embedding\n",
    "        self.embed = nn.Embedding(len(embedding), len(embedding[0]))\n",
    "        self.embed.weight.data.copy_(torch.from_numpy(embedding))\n",
    "        self.embed.weight.data.requires_grad = False\n",
    "        \n",
    "        #Network layers\n",
    "        self.conv = nn.Conv1d(in_channels=50, out_channels = 16, kernel_size=3)\n",
    "        self.relu1 = nn.ReLU()\n",
    "        self.pool = nn.MaxPool1d(kernel_size=2)\n",
    "        self.flatten = nn.Flatten(start_dim=1)\n",
    "        self.fc1 = nn.Linear(in_features = 1008, out_features=10)\n",
    "        self.relu2 = nn.ReLU()\n",
    "        self.fc2 = nn.Linear(in_features=10, out_features=num_classes)\n",
    "        \n",
    "    def forward(self, x):\n",
    "        x = self.embed(x)\n",
    "        x = torch.transpose(x, 1, 2)\n",
    "        x = self.conv(x)\n",
    "        x = self.relu1(x)\n",
    "        x = self.pool(x)\n",
    "        x = self.flatten(x)\n",
    "        x = self.fc1(x)\n",
    "        x = self.relu2(x)\n",
    "        x = self.fc2(x)\n",
    "        return x"
   ]
  },
  {
   "cell_type": "code",
   "execution_count": 9,
   "id": "321c13b9",
   "metadata": {},
   "outputs": [],
   "source": [
    "# Network Params\n",
    "num_classes = 2"
   ]
  },
  {
   "cell_type": "code",
   "execution_count": 10,
   "id": "c230cacc",
   "metadata": {},
   "outputs": [
    {
     "name": "stdout",
     "output_type": "stream",
     "text": [
      "Epoch 0/24\n",
      "----------\n",
      "train Loss: 0.6702 Acc: 0.5763\n",
      "test Loss: 0.6544 Acc: 0.5950\n",
      "Epoch 1/24\n",
      "----------\n",
      "train Loss: 0.6228 Acc: 0.6584\n",
      "test Loss: 0.5966 Acc: 0.6808\n",
      "Epoch 2/24\n",
      "----------\n",
      "train Loss: 0.5647 Acc: 0.7201\n",
      "test Loss: 0.5382 Acc: 0.7437\n",
      "Epoch 3/24\n",
      "----------\n",
      "train Loss: 0.5223 Acc: 0.7477\n",
      "test Loss: 0.5007 Acc: 0.7650\n",
      "Epoch 4/24\n",
      "----------\n",
      "train Loss: 0.4909 Acc: 0.7694\n",
      "test Loss: 0.4827 Acc: 0.7781\n",
      "Epoch 5/24\n",
      "----------\n",
      "train Loss: 0.4635 Acc: 0.7867\n",
      "test Loss: 0.4582 Acc: 0.7950\n",
      "Epoch 6/24\n",
      "----------\n",
      "train Loss: 0.4355 Acc: 0.8042\n",
      "test Loss: 0.4325 Acc: 0.8116\n",
      "Epoch 7/24\n",
      "----------\n",
      "train Loss: 0.4153 Acc: 0.8144\n",
      "test Loss: 0.4227 Acc: 0.8124\n",
      "Epoch 8/24\n",
      "----------\n",
      "train Loss: 0.3987 Acc: 0.8220\n",
      "test Loss: 0.4080 Acc: 0.8208\n",
      "Epoch 9/24\n",
      "----------\n",
      "train Loss: 0.3823 Acc: 0.8324\n",
      "test Loss: 0.4002 Acc: 0.8249\n",
      "Epoch 10/24\n",
      "----------\n",
      "train Loss: 0.3704 Acc: 0.8364\n",
      "test Loss: 0.3933 Acc: 0.8281\n",
      "Epoch 11/24\n",
      "----------\n",
      "train Loss: 0.3585 Acc: 0.8442\n",
      "test Loss: 0.3948 Acc: 0.8257\n",
      "Epoch 12/24\n",
      "----------\n",
      "train Loss: 0.3473 Acc: 0.8507\n",
      "test Loss: 0.3903 Acc: 0.8276\n",
      "Epoch 13/24\n",
      "----------\n",
      "train Loss: 0.3393 Acc: 0.8557\n",
      "test Loss: 0.3788 Acc: 0.8321\n",
      "Epoch 14/24\n",
      "----------\n",
      "train Loss: 0.3309 Acc: 0.8589\n",
      "test Loss: 0.3757 Acc: 0.8334\n",
      "Epoch 15/24\n",
      "----------\n",
      "train Loss: 0.3257 Acc: 0.8608\n",
      "test Loss: 0.3896 Acc: 0.8262\n",
      "Epoch 16/24\n",
      "----------\n",
      "train Loss: 0.3170 Acc: 0.8651\n",
      "test Loss: 0.3720 Acc: 0.8341\n",
      "Epoch 17/24\n",
      "----------\n",
      "train Loss: 0.3124 Acc: 0.8680\n",
      "test Loss: 0.3755 Acc: 0.8365\n",
      "Epoch 18/24\n",
      "----------\n",
      "train Loss: 0.3078 Acc: 0.8688\n",
      "test Loss: 0.3696 Acc: 0.8365\n",
      "Epoch 19/24\n",
      "----------\n",
      "train Loss: 0.3016 Acc: 0.8732\n",
      "test Loss: 0.3721 Acc: 0.8390\n",
      "Epoch 20/24\n",
      "----------\n",
      "train Loss: 0.3023 Acc: 0.8736\n",
      "test Loss: 0.3710 Acc: 0.8395\n",
      "Epoch 21/24\n",
      "----------\n",
      "train Loss: 0.2922 Acc: 0.8780\n",
      "test Loss: 0.3822 Acc: 0.8386\n",
      "Epoch 22/24\n",
      "----------\n",
      "train Loss: 0.2876 Acc: 0.8806\n",
      "test Loss: 0.3725 Acc: 0.8435\n",
      "Epoch 23/24\n",
      "----------\n",
      "train Loss: 0.2824 Acc: 0.8820\n",
      "test Loss: 0.3782 Acc: 0.8420\n",
      "Epoch 24/24\n",
      "----------\n",
      "train Loss: 0.2787 Acc: 0.8853\n",
      "test Loss: 0.3806 Acc: 0.8369\n",
      "Training complete in 1m 31s\n",
      "Best test Acc: 0.843475\n"
     ]
    }
   ],
   "source": [
    "# Define model, criterion, optimizer\n",
    "model_cnn = CNNClassifier(input_size, embedding, num_classes)\n",
    "model_cnn = model_cnn.to(device)\n",
    "criterion = nn.CrossEntropyLoss()\n",
    "optimizer = optim.SGD(model_cnn.parameters(), lr=learning_rate, momentum=.9)\n",
    "\n",
    "# Train and evaluate\n",
    "model_cnn, train_acc_cnn, test_acc_cnn, train_loss_cnn, test_loss_cnn = train_model(model_cnn, dataloaders, criterion, optimizer, num_epochs=num_epochs)"
   ]
  },
  {
   "cell_type": "code",
   "execution_count": 11,
   "id": "0b31f06d",
   "metadata": {},
   "outputs": [],
   "source": [
    "def historyTensorToNumpy(history1, history2):\n",
    "    hist1 = [h.cpu().numpy() for h in history1]\n",
    "    hist2 = [h.cpu().numpy() for h in history2]\n",
    "    return hist1, hist2"
   ]
  },
  {
   "cell_type": "code",
   "execution_count": 12,
   "id": "33f12333",
   "metadata": {},
   "outputs": [],
   "source": [
    "def plotCurves(title, xlabel, ylabel, history1, label1, history2=None, label2=None):\n",
    "    n_epochs = len(history1)\n",
    "    plt.title(title)\n",
    "    plt.xlabel(xlabel)\n",
    "    plt.ylabel(ylabel)\n",
    "    plt.plot(range(1,n_epochs+1),history1,label=label1)\n",
    "    if history2 is not None:\n",
    "        plt.plot(range(1,n_epochs+1),history2,label=label2)\n",
    "    plt.ylim((0,1.))\n",
    "    plt.xticks(np.arange(1, n_epochs+1, 1.0))\n",
    "    plt.legend()\n",
    "    plt.show()"
   ]
  },
  {
   "cell_type": "code",
   "execution_count": 13,
   "id": "4f11a696",
   "metadata": {},
   "outputs": [
    {
     "data": {
      "image/png": "[encoded data removed]",
      "text/plain": [
       "<Figure size 432x288 with 1 Axes>"
      ]
     },
     "metadata": {
      "needs_background": "light"
     },
     "output_type": "display_data"
    },
    {
     "data": {
      "image/png": "[encoded data removed]",
      "text/plain": [
       "<Figure size 432x288 with 1 Axes>"
      ]
     },
     "metadata": {
      "needs_background": "light"
     },
     "output_type": "display_data"
    }
   ],
   "source": [
    "# Compare training and testing accuracy in CNN\n",
    "title = \"CNN: Accuracy over Epochs\"\n",
    "xlabel = \"Epochs\"\n",
    "ylabel = \"Accuracy\"\n",
    "label1 = \"Training\"\n",
    "label2 = \"Testing\"\n",
    "train_acc_cnn, test_acc_cnn = historyTensorToNumpy(train_acc_cnn, test_acc_cnn)\n",
    "plotCurves(title, xlabel, ylabel, train_acc_cnn, label1, test_acc_cnn, label2)\n",
    "\n",
    "title = \"CNN: Loss over Epochs\"\n",
    "xlabel = \"Epochs\"\n",
    "ylabel = \"Loss\"\n",
    "label1 = \"Training\"\n",
    "label2 = \"Testing\"\n",
    "plotCurves(title, xlabel, ylabel, train_loss_cnn, label1, test_loss_cnn, label2)"
   ]
  },
  {
   "cell_type": "markdown",
   "id": "e94ab213",
   "metadata": {},
   "source": [
    "## GRU Classifier"
   ]
  },
  {
   "cell_type": "code",
   "execution_count": 14,
   "id": "be532c47",
   "metadata": {},
   "outputs": [],
   "source": [
    "# GRU Classifier\n",
    "class GRUClassifier(nn.Module):\n",
    "    def __init__(self, input_size, embedding, rnn_hidden, rnn_layers, fc_hidden, num_classes):\n",
    "        super(GRUClassifier, self).__init__()\n",
    "        self.input_size = input_size #128\n",
    "        self.embedding = embedding \n",
    "        self.embedding_dim = len(embedding[0])\n",
    "        self.rnn_hidden = rnn_hidden\n",
    "        self.rnn_layers = rnn_layers\n",
    "        self.fc_hidden = fc_hidden\n",
    "        self.num_classes = num_classes\n",
    "        \n",
    "        # Commenting out, hardcoding\n",
    "        #self.num_directions = 2 #Using bidirectional RNN\n",
    "\n",
    "        # Embedding\n",
    "        self.embed = nn.Embedding(len(embedding), len(embedding[0]))\n",
    "        self.embed.weight.data.copy_(torch.from_numpy(embedding))\n",
    "        self.embed.weight.data.requires_grad = False\n",
    "        \n",
    "        # Network layers\n",
    "        self.rnn = nn.GRU(self.embedding_dim, self.rnn_hidden, self.rnn_layers, batch_first=True, bidirectional=True)\n",
    "        self.flatten = nn.Flatten(start_dim=1)\n",
    "        self.relu1 = nn.ReLU()\n",
    "        self.fc1 = nn.Linear(in_features = input_size * 2 * rnn_hidden, out_features=fc_hidden)\n",
    "        self.relu2 = nn.ReLU()\n",
    "        self.fc2 = nn.Linear(in_features=fc_hidden, out_features=num_classes)\n",
    "        \n",
    "    def forward(self, x):\n",
    "        hidden = self.init_hidden(x.size(0))\n",
    "        x = self.embed(x) #100, 128, 50\n",
    "        x, hidden = self.rnn(x, hidden) #100, 128, hidden_size\n",
    "        x = self.flatten(x) #100, 2*128*hidden_size\n",
    "        x = self.relu1(x)\n",
    "        x = self.fc1(x)\n",
    "        x = self.relu2(x)\n",
    "        x = self.fc2(x)\n",
    "        \n",
    "        return x\n",
    "    \n",
    "    def init_hidden(self, batch_size):\n",
    "        return Variable(torch.zeros(self.rnn_layers*2, batch_size, self.rnn_hidden).to(device))"
   ]
  },
  {
   "cell_type": "code",
   "execution_count": 15,
   "id": "00e68d2a",
   "metadata": {},
   "outputs": [],
   "source": [
    "# GRU Network Params\n",
    "input_size = 128\n",
    "rnn_hidden = 16\n",
    "rnn_layers = 1\n",
    "fc_hidden = 8\n",
    "num_classes = 2"
   ]
  },
  {
   "cell_type": "code",
   "execution_count": 16,
   "id": "ee02e4be",
   "metadata": {},
   "outputs": [
    {
     "name": "stdout",
     "output_type": "stream",
     "text": [
      "Epoch 0/24\n",
      "----------\n",
      "train Loss: 0.6990 Acc: 0.4387\n",
      "test Loss: 0.6987 Acc: 0.4400\n",
      "Epoch 1/24\n",
      "----------\n",
      "train Loss: 0.6990 Acc: 0.4387\n",
      "test Loss: 0.6987 Acc: 0.4400\n",
      "Epoch 2/24\n",
      "----------\n",
      "train Loss: 0.6990 Acc: 0.4387\n",
      "test Loss: 0.6987 Acc: 0.4400\n",
      "Epoch 3/24\n",
      "----------\n",
      "train Loss: 0.6990 Acc: 0.4387\n",
      "test Loss: 0.6987 Acc: 0.4400\n",
      "Epoch 4/24\n",
      "----------\n",
      "train Loss: 0.6990 Acc: 0.4387\n",
      "test Loss: 0.6987 Acc: 0.4400\n",
      "Epoch 5/24\n",
      "----------\n",
      "train Loss: 0.6990 Acc: 0.4387\n",
      "test Loss: 0.6987 Acc: 0.4400\n",
      "Epoch 6/24\n",
      "----------\n",
      "train Loss: 0.6990 Acc: 0.4387\n",
      "test Loss: 0.6987 Acc: 0.4400\n",
      "Epoch 7/24\n",
      "----------\n",
      "train Loss: 0.6990 Acc: 0.4387\n",
      "test Loss: 0.6987 Acc: 0.4400\n",
      "Epoch 8/24\n",
      "----------\n",
      "train Loss: 0.6990 Acc: 0.4387\n",
      "test Loss: 0.6987 Acc: 0.4400\n",
      "Epoch 9/24\n",
      "----------\n",
      "train Loss: 0.6990 Acc: 0.4387\n",
      "test Loss: 0.6987 Acc: 0.4400\n",
      "Epoch 10/24\n",
      "----------\n",
      "train Loss: 0.6990 Acc: 0.4387\n",
      "test Loss: 0.6987 Acc: 0.4400\n",
      "Epoch 11/24\n",
      "----------\n",
      "train Loss: 0.6990 Acc: 0.4387\n",
      "test Loss: 0.6987 Acc: 0.4400\n",
      "Epoch 12/24\n",
      "----------\n",
      "train Loss: 0.6990 Acc: 0.4387\n",
      "test Loss: 0.6987 Acc: 0.4400\n",
      "Epoch 13/24\n",
      "----------\n",
      "train Loss: 0.6990 Acc: 0.4387\n",
      "test Loss: 0.6987 Acc: 0.4400\n",
      "Epoch 14/24\n",
      "----------\n",
      "train Loss: 0.6990 Acc: 0.4387\n",
      "test Loss: 0.6987 Acc: 0.4400\n",
      "Epoch 15/24\n",
      "----------\n",
      "train Loss: 0.6990 Acc: 0.4387\n",
      "test Loss: 0.6987 Acc: 0.4400\n",
      "Epoch 16/24\n",
      "----------\n",
      "train Loss: 0.6990 Acc: 0.4387\n",
      "test Loss: 0.6987 Acc: 0.4400\n",
      "Epoch 17/24\n",
      "----------\n",
      "train Loss: 0.6990 Acc: 0.4387\n",
      "test Loss: 0.6987 Acc: 0.4400\n",
      "Epoch 18/24\n",
      "----------\n",
      "train Loss: 0.6990 Acc: 0.4387\n",
      "test Loss: 0.6987 Acc: 0.4400\n",
      "Epoch 19/24\n",
      "----------\n",
      "train Loss: 0.6990 Acc: 0.4387\n",
      "test Loss: 0.6987 Acc: 0.4400\n",
      "Epoch 20/24\n",
      "----------\n",
      "train Loss: 0.6990 Acc: 0.4387\n",
      "test Loss: 0.6987 Acc: 0.4400\n",
      "Epoch 21/24\n",
      "----------\n",
      "train Loss: 0.6990 Acc: 0.4387\n",
      "test Loss: 0.6987 Acc: 0.4400\n",
      "Epoch 22/24\n",
      "----------\n",
      "train Loss: 0.6990 Acc: 0.4387\n",
      "test Loss: 0.6987 Acc: 0.4400\n",
      "Epoch 23/24\n",
      "----------\n",
      "train Loss: 0.6990 Acc: 0.4387\n",
      "test Loss: 0.6987 Acc: 0.4400\n",
      "Epoch 24/24\n",
      "----------\n",
      "train Loss: 0.6990 Acc: 0.4387\n",
      "test Loss: 0.6987 Acc: 0.4400\n",
      "Training complete in 2m 44s\n",
      "Best test Acc: 0.439993\n"
     ]
    }
   ],
   "source": [
    "# Define model, criterion, optimizer\n",
    "model_gru = GRUClassifier(input_size, embedding, rnn_hidden, rnn_layers, fc_hidden, num_classes)\n",
    "model_gru = model_gru.to(device)\n",
    "criterion = nn.CrossEntropyLoss()\n",
    "optimizer = optim.SGD(model_cnn.parameters(), lr=learning_rate, momentum=.9)\n",
    "\n",
    "# Train and evaluate\n",
    "model_gru, train_acc_gru, test_acc_gru, train_loss_gru, test_loss_gru = train_model(model_gru, dataloaders, criterion, optimizer, num_epochs=num_epochs)"
   ]
  },
  {
   "cell_type": "code",
   "execution_count": 17,
   "id": "7dc751c9",
   "metadata": {},
   "outputs": [
    {
     "data": {
      "image/png": "[encoded data removed]",
      "text/plain": [
       "<Figure size 432x288 with 1 Axes>"
      ]
     },
     "metadata": {
      "needs_background": "light"
     },
     "output_type": "display_data"
    },
    {
     "data": {
      "image/png": "[encoded data removed]",
      "text/plain": [
       "<Figure size 432x288 with 1 Axes>"
      ]
     },
     "metadata": {
      "needs_background": "light"
     },
     "output_type": "display_data"
    }
   ],
   "source": [
    "# Compare training and testing accuracy in GRU\n",
    "title = \"GRU: Accuracy over Epochs\"\n",
    "xlabel = \"Epochs\"\n",
    "ylabel = \"Accuracy\"\n",
    "label1 = \"Training\"\n",
    "label2 = \"Testing\"\n",
    "train_acc_gru, test_acc_gru = historyTensorToNumpy(train_acc_gru, test_acc_gru)\n",
    "plotCurves(title, xlabel, ylabel, train_acc_gru, label1, test_acc_gru, label2)\n",
    "\n",
    "title = \"GRU: Loss over Epochs\"\n",
    "xlabel = \"Epochs\"\n",
    "ylabel = \"Loss\"\n",
    "label1 = \"Training\"\n",
    "label2 = \"Testing\"\n",
    "plotCurves(title, xlabel, ylabel, train_loss_gru, label1, test_loss_gru, label2)"
   ]
  },
  {
   "cell_type": "markdown",
   "id": "d787ce07",
   "metadata": {},
   "source": [
    "## LSTM Classifier"
   ]
  },
  {
   "cell_type": "code",
   "execution_count": 18,
   "id": "7320aa70",
   "metadata": {},
   "outputs": [],
   "source": [
    "# LSTM Network Params\n",
    "input_size = 128\n",
    "rnn_hidden = 16\n",
    "rnn_layers = 1\n",
    "fc_hidden = 8\n",
    "num_classes = 2"
   ]
  },
  {
   "cell_type": "code",
   "execution_count": 19,
   "id": "999aa8cc",
   "metadata": {},
   "outputs": [],
   "source": [
    "# GRU Classifier\n",
    "class LSTMClassifier(nn.Module):\n",
    "    def __init__(self, input_size, embedding, rnn_hidden, rnn_layers, fc_hidden, num_classes):\n",
    "        super(LSTMClassifier, self).__init__()\n",
    "        self.input_size = input_size #128\n",
    "        self.embedding = embedding \n",
    "        self.embedding_dim = len(embedding[0])\n",
    "        self.rnn_hidden = rnn_hidden\n",
    "        self.rnn_layers = rnn_layers\n",
    "        self.fc_hidden = fc_hidden\n",
    "        self.num_classes = num_classes\n",
    "        \n",
    "        # Commenting out, hardcoding\n",
    "        #self.num_directions = 2 #Using bidirectional RNN\n",
    "\n",
    "        # Embedding\n",
    "        self.embed = nn.Embedding(len(embedding), len(embedding[0]))\n",
    "        self.embed.weight.data.copy_(torch.from_numpy(embedding))\n",
    "        self.embed.weight.data.requires_grad = False\n",
    "        \n",
    "        # Network layers\n",
    "        self.rnn = nn.LSTM(self.embedding_dim, self.rnn_hidden, self.rnn_layers, batch_first=True, bidirectional=True)\n",
    "        self.flatten = nn.Flatten(start_dim=1)\n",
    "        self.relu1 = nn.ReLU()\n",
    "        self.fc1 = nn.Linear(in_features = input_size * 2 * rnn_hidden, out_features=fc_hidden)\n",
    "        self.relu2 = nn.ReLU()\n",
    "        self.fc2 = nn.Linear(in_features=fc_hidden, out_features=num_classes)\n",
    "        \n",
    "    def forward(self, x):\n",
    "        hidden = self.init_hidden(x.size(0))\n",
    "        x = self.embed(x) #100, 128, 50\n",
    "        x, hidden = self.rnn(x, hidden) #100, 128, hidden_size\n",
    "        x = self.flatten(x) #100, 2*128*hidden_size\n",
    "        x = self.relu1(x)\n",
    "        x = self.fc1(x)\n",
    "        x = self.relu2(x)\n",
    "        x = self.fc2(x)\n",
    "        \n",
    "        return x\n",
    "    \n",
    "    def init_hidden(self, batch_size):\n",
    "        h0 = Variable(torch.zeros(self.rnn_layers*2, batch_size, self.rnn_hidden).to(device))\n",
    "        c0 = Variable(torch.zeros(self.rnn_layers*2, batch_size, self.rnn_hidden).to(device))\n",
    "        return h0, c0"
   ]
  },
  {
   "cell_type": "code",
   "execution_count": 20,
   "id": "342f11e2",
   "metadata": {},
   "outputs": [
    {
     "name": "stdout",
     "output_type": "stream",
     "text": [
      "Epoch 0/24\n",
      "----------\n",
      "train Loss: 0.6844 Acc: 0.5613\n",
      "test Loss: 0.6830 Acc: 0.5600\n",
      "Epoch 1/24\n",
      "----------\n",
      "train Loss: 0.6801 Acc: 0.5613\n",
      "test Loss: 0.6774 Acc: 0.5600\n",
      "Epoch 2/24\n",
      "----------\n",
      "train Loss: 0.6700 Acc: 0.5740\n",
      "test Loss: 0.6628 Acc: 0.6044\n",
      "Epoch 3/24\n",
      "----------\n",
      "train Loss: 0.6433 Acc: 0.6343\n",
      "test Loss: 0.6251 Acc: 0.6782\n",
      "Epoch 4/24\n",
      "----------\n",
      "train Loss: 0.5925 Acc: 0.6957\n",
      "test Loss: 0.5715 Acc: 0.7120\n",
      "Epoch 5/24\n",
      "----------\n",
      "train Loss: 0.5441 Acc: 0.7317\n",
      "test Loss: 0.5298 Acc: 0.7426\n",
      "Epoch 6/24\n",
      "----------\n",
      "train Loss: 0.5067 Acc: 0.7593\n",
      "test Loss: 0.5038 Acc: 0.7566\n",
      "Epoch 7/24\n",
      "----------\n",
      "train Loss: 0.4812 Acc: 0.7771\n",
      "test Loss: 0.4773 Acc: 0.7755\n",
      "Epoch 8/24\n",
      "----------\n",
      "train Loss: 0.4577 Acc: 0.7914\n",
      "test Loss: 0.4627 Acc: 0.7828\n",
      "Epoch 9/24\n",
      "----------\n",
      "train Loss: 0.4417 Acc: 0.8018\n",
      "test Loss: 0.4460 Acc: 0.7922\n",
      "Epoch 10/24\n",
      "----------\n",
      "train Loss: 0.4274 Acc: 0.8086\n",
      "test Loss: 0.4577 Acc: 0.7911\n",
      "Epoch 11/24\n",
      "----------\n",
      "train Loss: 0.4168 Acc: 0.8122\n",
      "test Loss: 0.4246 Acc: 0.8021\n",
      "Epoch 12/24\n",
      "----------\n",
      "train Loss: 0.4021 Acc: 0.8213\n",
      "test Loss: 0.4201 Acc: 0.8101\n",
      "Epoch 13/24\n",
      "----------\n",
      "train Loss: 0.3929 Acc: 0.8259\n",
      "test Loss: 0.4061 Acc: 0.8176\n",
      "Epoch 14/24\n",
      "----------\n",
      "train Loss: 0.3827 Acc: 0.8320\n",
      "test Loss: 0.3979 Acc: 0.8225\n",
      "Epoch 15/24\n",
      "----------\n",
      "train Loss: 0.3720 Acc: 0.8374\n",
      "test Loss: 0.3949 Acc: 0.8191\n",
      "Epoch 16/24\n",
      "----------\n",
      "train Loss: 0.3653 Acc: 0.8404\n",
      "test Loss: 0.3886 Acc: 0.8292\n",
      "Epoch 17/24\n",
      "----------\n",
      "train Loss: 0.3572 Acc: 0.8446\n",
      "test Loss: 0.3818 Acc: 0.8339\n",
      "Epoch 18/24\n",
      "----------\n",
      "train Loss: 0.3498 Acc: 0.8466\n",
      "test Loss: 0.3754 Acc: 0.8356\n",
      "Epoch 19/24\n",
      "----------\n",
      "train Loss: 0.3408 Acc: 0.8532\n",
      "test Loss: 0.3717 Acc: 0.8377\n",
      "Epoch 20/24\n",
      "----------\n",
      "train Loss: 0.3403 Acc: 0.8516\n",
      "test Loss: 0.3782 Acc: 0.8375\n",
      "Epoch 21/24\n",
      "----------\n",
      "train Loss: 0.3293 Acc: 0.8579\n",
      "test Loss: 0.3671 Acc: 0.8416\n",
      "Epoch 22/24\n",
      "----------\n",
      "train Loss: 0.3319 Acc: 0.8552\n",
      "test Loss: 0.3646 Acc: 0.8418\n",
      "Epoch 23/24\n",
      "----------\n",
      "train Loss: 0.3214 Acc: 0.8600\n",
      "test Loss: 0.3574 Acc: 0.8455\n",
      "Epoch 24/24\n",
      "----------\n",
      "train Loss: 0.3144 Acc: 0.8629\n",
      "test Loss: 0.3552 Acc: 0.8470\n",
      "Training complete in 2m 46s\n",
      "Best test Acc: 0.847032\n"
     ]
    }
   ],
   "source": [
    "# Define model, criterion, optimizer\n",
    "model_lstm = LSTMClassifier(input_size, embedding, rnn_hidden, rnn_layers, fc_hidden, num_classes)\n",
    "model_lstm = model_lstm.to(device)\n",
    "criterion = nn.CrossEntropyLoss()\n",
    "optimizer = optim.SGD(model_lstm.parameters(), lr=learning_rate, momentum=.9)\n",
    "\n",
    "# Train and evaluate\n",
    "model_lstm, train_acc_lstm, test_acc_lstm, train_loss_lstm, test_loss_lstm = train_model(model_lstm, dataloaders, criterion, optimizer, num_epochs=num_epochs)"
   ]
  },
  {
   "cell_type": "code",
   "execution_count": 21,
   "id": "7ff1836d",
   "metadata": {},
   "outputs": [
    {
     "data": {
      "image/png": "[encoded data removed]",
      "text/plain": [
       "<Figure size 432x288 with 1 Axes>"
      ]
     },
     "metadata": {
      "needs_background": "light"
     },
     "output_type": "display_data"
    },
    {
     "data": {
      "image/png": "[encoded data removed]",
      "text/plain": [
       "<Figure size 432x288 with 1 Axes>"
      ]
     },
     "metadata": {
      "needs_background": "light"
     },
     "output_type": "display_data"
    }
   ],
   "source": [
    "# Compare training and testing accuracy in LSTM\n",
    "title = \"LSTM: Accuracy over Epochs\"\n",
    "xlabel = \"Epochs\"\n",
    "ylabel = \"Accuracy\"\n",
    "label1 = \"Training\"\n",
    "label2 = \"Testing\"\n",
    "train_acc_lstm, test_acc_lstm = historyTensorToNumpy(train_acc_lstm, test_acc_lstm)\n",
    "plotCurves(title, xlabel, ylabel, train_acc_lstm, label1, test_acc_lstm, label2)\n",
    "\n",
    "title = \"LSTM: Loss over Epochs\"\n",
    "xlabel = \"Epochs\"\n",
    "ylabel = \"Loss\"\n",
    "label1 = \"Training\"\n",
    "label2 = \"Testing\"\n",
    "plotCurves(title, xlabel, ylabel, train_loss_lstm, label1, test_loss_lstm, label2)"
   ]
  },
  {
   "cell_type": "markdown",
   "id": "6690bbb0",
   "metadata": {},
   "source": [
    "### Save Models"
   ]
  },
  {
   "cell_type": "code",
   "execution_count": 22,
   "id": "a30019a1",
   "metadata": {},
   "outputs": [],
   "source": [
    "torch.save(model_cnn, cwd + f\"/cnn_{domain}.pt\")\n",
    "torch.save(model_gru, cwd + f\"/gru_{domain}.pt\")\n",
    "torch.save(model_lstm, cwd + f\"/lstm_{domain}.pt\")"
   ]
  },
  {
   "cell_type": "markdown",
   "id": "32cd8a90",
   "metadata": {},
   "source": [
    "## Transformer"
   ]
  },
  {
   "cell_type": "code",
   "execution_count": 27,
   "id": "0790ab2f",
   "metadata": {},
   "outputs": [],
   "source": [
    "# Imports\n",
    "from simpletransformers.classification import ClassificationModel, ClassificationArgs\n",
    "from sklearn.model_selection import train_test_split"
   ]
  },
  {
   "cell_type": "code",
   "execution_count": 28,
   "id": "53273abf",
   "metadata": {},
   "outputs": [],
   "source": [
    "# Headlines\n",
    "data = df_headlines[[\"headline\", \"is_sarcastic\"]]\n",
    "\n",
    "\"\"\"\n",
    "# Get Twitter data\n",
    "data = df_twitter[[\"tweet\", \"sarcastic\"]]\n",
    "\"\"\"\n",
    "\n",
    "\"\"\"\n",
    "# Get Reddit data\n",
    "data = df_reddit[[\"comment\", \"label\"]]\n",
    "\"\"\"\n",
    "\n",
    "data.columns = [\"text\", \"labels\"]\n",
    "train_data, test_data = train_test_split(data, test_size=0.2)"
   ]
  },
  {
   "cell_type": "code",
   "execution_count": 29,
   "id": "7076db98",
   "metadata": {},
   "outputs": [
    {
     "name": "stderr",
     "output_type": "stream",
     "text": [
      "Some weights of the model checkpoint at roberta-base were not used when initializing RobertaForSequenceClassification: ['lm_head.dense.weight', 'roberta.pooler.dense.weight', 'lm_head.bias', 'lm_head.dense.bias', 'lm_head.layer_norm.weight', 'lm_head.decoder.weight', 'lm_head.layer_norm.bias', 'roberta.pooler.dense.bias']\n",
      "- This IS expected if you are initializing RobertaForSequenceClassification from the checkpoint of a model trained on another task or with another architecture (e.g. initializing a BertForSequenceClassification model from a BertForPreTraining model).\n",
      "- This IS NOT expected if you are initializing RobertaForSequenceClassification from the checkpoint of a model that you expect to be exactly identical (initializing a BertForSequenceClassification model from a BertForSequenceClassification model).\n",
      "Some weights of RobertaForSequenceClassification were not initialized from the model checkpoint at roberta-base and are newly initialized: ['classifier.dense.bias', 'classifier.dense.weight', 'classifier.out_proj.bias', 'classifier.out_proj.weight']\n",
      "You should probably TRAIN this model on a down-stream task to be able to use it for predictions and inference.\n"
     ]
    }
   ],
   "source": [
    "model_args = ClassificationArgs()\n",
    "# Transformer is already pre-trained and trains very slowly\n",
    "model_args.num_train_epochs = 5\n",
    "model_args.evaluate_during_training = True\n",
    "model_args.train_batch_size = 64\n",
    "model_args.eval_batch_size = 64\n",
    "model_args.evaluate_during_training_verbose = True\n",
    "\n",
    "model_transformer = ClassificationModel(\n",
    "    \"roberta\", \"roberta-base\", args=model_args, use_cuda=True\n",
    ")"
   ]
  },
  {
   "cell_type": "code",
   "execution_count": 30,
   "id": "56c80bad",
   "metadata": {
    "scrolled": true
   },
   "outputs": [
    {
     "data": {
      "application/vnd.jupyter.widget-view+json": {
       "model_id": "b30a42d02a544746a07b3212383e050f",
       "version_major": 2,
       "version_minor": 0
      },
      "text/plain": [
       "  0%|          | 0/21367 [00:00<?, ?it/s]"
      ]
     },
     "metadata": {},
     "output_type": "display_data"
    },
    {
     "data": {
      "application/vnd.jupyter.widget-view+json": {
       "model_id": "2f671e5eaa364406b6ef2ed7e318058c",
       "version_major": 2,
       "version_minor": 0
      },
      "text/plain": [
       "Epoch:   0%|          | 0/5 [00:00<?, ?it/s]"
      ]
     },
     "metadata": {},
     "output_type": "display_data"
    },
    {
     "data": {
      "application/vnd.jupyter.widget-view+json": {
       "model_id": "72d36e5f36d8459198b2fee223f6cad3",
       "version_major": 2,
       "version_minor": 0
      },
      "text/plain": [
       "Running Epoch 0 of 5:   0%|          | 0/334 [00:00<?, ?it/s]"
      ]
     },
     "metadata": {},
     "output_type": "display_data"
    },
    {
     "data": {
      "application/vnd.jupyter.widget-view+json": {
       "model_id": "d49cbed6a4464e4b9dd31952cc1e9e8b",
       "version_major": 2,
       "version_minor": 0
      },
      "text/plain": [
       "  0%|          | 0/5342 [00:00<?, ?it/s]"
      ]
     },
     "metadata": {},
     "output_type": "display_data"
    },
    {
     "data": {
      "application/vnd.jupyter.widget-view+json": {
       "model_id": "a32c74c5b4bc4abca766bc0ee585edb6",
       "version_major": 2,
       "version_minor": 0
      },
      "text/plain": [
       "Running Epoch 1 of 5:   0%|          | 0/334 [00:00<?, ?it/s]"
      ]
     },
     "metadata": {},
     "output_type": "display_data"
    },
    {
     "data": {
      "application/vnd.jupyter.widget-view+json": {
       "model_id": "6a98cfe94d854f60be98a6236a896770",
       "version_major": 2,
       "version_minor": 0
      },
      "text/plain": [
       "  0%|          | 0/5342 [00:00<?, ?it/s]"
      ]
     },
     "metadata": {},
     "output_type": "display_data"
    },
    {
     "data": {
      "application/vnd.jupyter.widget-view+json": {
       "model_id": "5229c9827c3c4244843ba57366eddf72",
       "version_major": 2,
       "version_minor": 0
      },
      "text/plain": [
       "Running Epoch 2 of 5:   0%|          | 0/334 [00:00<?, ?it/s]"
      ]
     },
     "metadata": {},
     "output_type": "display_data"
    },
    {
     "data": {
      "application/vnd.jupyter.widget-view+json": {
       "model_id": "0788e8e198294bdf8f3d06cd7b38fbb9",
       "version_major": 2,
       "version_minor": 0
      },
      "text/plain": [
       "  0%|          | 0/5342 [00:00<?, ?it/s]"
      ]
     },
     "metadata": {},
     "output_type": "display_data"
    },
    {
     "data": {
      "application/vnd.jupyter.widget-view+json": {
       "model_id": "07a9ee2f4e1946279579da9fef7d24ce",
       "version_major": 2,
       "version_minor": 0
      },
      "text/plain": [
       "Running Epoch 3 of 5:   0%|          | 0/334 [00:00<?, ?it/s]"
      ]
     },
     "metadata": {},
     "output_type": "display_data"
    },
    {
     "data": {
      "application/vnd.jupyter.widget-view+json": {
       "model_id": "19e574f749db4dd78fce0d94219e76fc",
       "version_major": 2,
       "version_minor": 0
      },
      "text/plain": [
       "  0%|          | 0/5342 [00:00<?, ?it/s]"
      ]
     },
     "metadata": {},
     "output_type": "display_data"
    },
    {
     "data": {
      "application/vnd.jupyter.widget-view+json": {
       "model_id": "bdd44f857638481b8abc38829488156b",
       "version_major": 2,
       "version_minor": 0
      },
      "text/plain": [
       "Running Epoch 4 of 5:   0%|          | 0/334 [00:00<?, ?it/s]"
      ]
     },
     "metadata": {},
     "output_type": "display_data"
    },
    {
     "data": {
      "application/vnd.jupyter.widget-view+json": {
       "model_id": "54f7b2cead6a4efc963749ce5077db9b",
       "version_major": 2,
       "version_minor": 0
      },
      "text/plain": [
       "  0%|          | 0/5342 [00:00<?, ?it/s]"
      ]
     },
     "metadata": {},
     "output_type": "display_data"
    },
    {
     "name": "stdout",
     "output_type": "stream",
     "text": [
      "Training took 25m 24s\n"
     ]
    }
   ],
   "source": [
    "since = time.time()\n",
    "eval_results = model_transformer.train_model(train_data, eval_df=test_data)\n",
    "time_elapsed = time.time() - since\n",
    "print('Training took {:.0f}m {:.0f}s'.format(time_elapsed // 60, time_elapsed % 60))"
   ]
  },
  {
   "cell_type": "code",
   "execution_count": 31,
   "id": "2b4c17a0",
   "metadata": {},
   "outputs": [
    {
     "name": "stdout",
     "output_type": "stream",
     "text": [
      "[0.90284538 0.92923999 0.93017596 0.9372894  0.93204792]\n",
      "Best Accuracy: 0.9372894047173344\n"
     ]
    }
   ],
   "source": [
    "train_loss_bert = eval_results[1]['train_loss']\n",
    "eval_loss_bert = eval_results[1]['eval_loss']\n",
    "tp = np.array(eval_results[1]['tp'])\n",
    "tn = np.array(eval_results[1]['tn'])\n",
    "fp = np.array(eval_results[1]['fp'])\n",
    "fn = np.array(eval_results[1]['fn'])\n",
    "test_acc_bert = (tp+tn) / (tp+tn+fp+fn)\n",
    "print(test_acc_bert)\n",
    "print(f\"Best Accuracy: {np.max(test_acc_bert)}\")"
   ]
  },
  {
   "cell_type": "code",
   "execution_count": 32,
   "id": "c21e2b78",
   "metadata": {},
   "outputs": [
    {
     "data": {
      "image/png": "[encoded data removed]",
      "text/plain": [
       "<Figure size 432x288 with 1 Axes>"
      ]
     },
     "metadata": {
      "needs_background": "light"
     },
     "output_type": "display_data"
    }
   ],
   "source": [
    "# Compare training and testing accuracy in LSTM\n",
    "title = \"RoBERTa: Accuracy over Epochs\"\n",
    "xlabel = \"Epochs\"\n",
    "ylabel = \"Accuracy\"\n",
    "label = \"RoBERTa\"\n",
    "plotCurves(title, xlabel, ylabel, test_acc_bert, label)"
   ]
  },
  {
   "cell_type": "code",
   "execution_count": 33,
   "id": "445b1b9a",
   "metadata": {},
   "outputs": [
    {
     "data": {
      "image/png": "[encoded data removed]",
      "text/plain": [
       "<Figure size 432x288 with 1 Axes>"
      ]
     },
     "metadata": {
      "needs_background": "light"
     },
     "output_type": "display_data"
    }
   ],
   "source": [
    "# Compare training and testing accuracy in Transformer\n",
    "title = \"RoBERTa: Loss over Epochs\"\n",
    "xlabel = \"Epochs\"\n",
    "ylabel = \"Loss\"\n",
    "label1 = \"Training Loss\"\n",
    "label2 = \"Testing Loss\"\n",
    "plotCurves(title, xlabel, ylabel, train_loss_bert, label1, eval_loss_bert, label2)"
   ]
  },
  {
   "cell_type": "code",
   "execution_count": null,
   "id": "f3b17061",
   "metadata": {},
   "outputs": [],
   "source": []
  }
 ],
 "metadata": {
  "kernelspec": {
   "display_name": "Python 3",
   "language": "python",
   "name": "python3"
  },
  "language_info": {
   "codemirror_mode": {
    "name": "ipython",
    "version": 3
   },
   "file_extension": ".py",
   "mimetype": "text/x-python",
   "name": "python",
   "nbconvert_exporter": "python",
   "pygments_lexer": "ipython3",
   "version": "3.6.8"
  }
 },
 "nbformat": 4,
 "nbformat_minor": 5
}
